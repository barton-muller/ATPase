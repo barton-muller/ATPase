{
 "cells": [
  {
   "cell_type": "code",
   "execution_count": 1,
   "metadata": {},
   "outputs": [
    {
     "name": "stdout",
     "output_type": "stream",
     "text": [
      "hello\n"
     ]
    }
   ],
   "source": [
    "print(\"hello\")"
   ]
  },
  {
   "cell_type": "markdown",
   "metadata": {},
   "source": [
    "### General Equations\n",
    "$$T + S \\xrightarrow{F} S^*$$\n",
    "$$S^* \\xrightarrow{A} S$$\n",
    "\n",
    "$$\\frac{d[T]}{dt} = - k_1 [F][S][T] $$\n",
    "$$\\frac{d[S]}{dt} = - k_1 [F][S][T] + k_2 [A][S^*]$$\n",
    "\n",
    "$$ \\frac{d[S]}{dt} = -\\frac{d[S*]}{dt}$$\n",
    "$$ \\implies S + S* = Const$$\n",
    "\n",
    "### S steady state\n",
    "Assume $\\frac{d[S]}{dt}= 0$\n",
    "$$k_1 [F][T][S]= k_2 [A][S^*]$$\n",
    "$$\\frac{d[T]}{dt} = - k_1[F][S][T] $$\n",
    "with solution:\n",
    "$$ T(t) = [T_0] e^{-k_1[F][S] t} $$\n",
    "since $k_1[F][S] = Const$\n",
    "\n",
    "suspect 44a with no catalysts has S in steady state due to exponetial dependence.\n",
    "![alt text](image-1.png)\n",
    "\n"
   ]
  },
  {
   "cell_type": "markdown",
   "metadata": {},
   "source": [
    "## import data"
   ]
  }
 ],
 "metadata": {
  "kernelspec": {
   "display_name": "base",
   "language": "python",
   "name": "python3"
  },
  "language_info": {
   "codemirror_mode": {
    "name": "ipython",
    "version": 3
   },
   "file_extension": ".py",
   "mimetype": "text/x-python",
   "name": "python",
   "nbconvert_exporter": "python",
   "pygments_lexer": "ipython3",
   "version": "3.11.5"
  }
 },
 "nbformat": 4,
 "nbformat_minor": 2
}
